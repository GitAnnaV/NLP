{
  "nbformat": 4,
  "nbformat_minor": 0,
  "metadata": {
    "colab": {
      "provenance": [],
      "authorship_tag": "ABX9TyNHsglvoE6vgrmIe+XO0dX0",
      "include_colab_link": true
    },
    "kernelspec": {
      "name": "python3",
      "display_name": "Python 3"
    },
    "language_info": {
      "name": "python"
    }
  },
  "cells": [
    {
      "cell_type": "markdown",
      "metadata": {
        "id": "view-in-github",
        "colab_type": "text"
      },
      "source": [
        "<a href=\"https://colab.research.google.com/github/GitAnnaV/NLP/blob/main/LAB_3.ipynb\" target=\"_parent\"><img src=\"https://colab.research.google.com/assets/colab-badge.svg\" alt=\"Open In Colab\"/></a>"
      ]
    },
    {
      "cell_type": "code",
      "execution_count": null,
      "metadata": {
        "id": "B8e9ndMB0vqI"
      },
      "outputs": [],
      "source": [
        "# Импорт библиотек\n",
        "import numpy as np\n",
        "import pandas as pd"
      ]
    },
    {
      "cell_type": "markdown",
      "source": [
        "Пункт 1. Создать нейронную сеть с нуля, т.е. не используя готовые библиотеки. Пример работы на любом табличном датасете."
      ],
      "metadata": {
        "id": "6GrizN6c09XG"
      }
    },
    {
      "cell_type": "code",
      "source": [
        "# Функция линейной регрессии\n",
        "def linear_regression(X: np.ndarray, weights: np.ndarray, bi) -> np.ndarray:\n",
        "    return np.dot(X, weights) + bias\n",
        "# Функция активации\n",
        "def activation_func(x: np.ndarray) -> np.ndarray:\n",
        "    return 1 / (1 + np.exp(-x))"
      ],
      "metadata": {
        "id": "xMmGNtbv1Ac7"
      },
      "execution_count": null,
      "outputs": []
    },
    {
      "cell_type": "code",
      "source": [
        "# Функция для нейрона\n",
        "def neuron(X: np.ndarray, weights: np.ndarray, bias: float) -> np.ndarray:\n",
        "    temp_result = linear_regression(X, weights, bias)\n",
        "    result = activation_func(temp_result)\n",
        "    return result"
      ],
      "metadata": {
        "id": "L_xF7jaE1Tuy"
      },
      "execution_count": null,
      "outputs": []
    },
    {
      "cell_type": "code",
      "source": [
        "# Пример работы\n",
        "data = {\n",
        "        'feature1': [0.1, 0.2, 0.3, 0.4, 0.5],\n",
        "        'feature2': [0.5, 0.4, 0.3, 0.2, 0.1],\n",
        "        'label': [0, 0, 1, 1, 1]\n",
        "    }\n",
        "\n",
        "df1 = pd.DataFrame(data)"
      ],
      "metadata": {
        "id": "R-B1Jgz51ZHa"
      },
      "execution_count": null,
      "outputs": []
    },
    {
      "cell_type": "code",
      "source": [
        "# Входные признаки\n",
        "X = df1[['feature1', 'feature2']].values\n",
        "\n",
        "# Целевая переменная\n",
        "y = df1['label'].values\n",
        "\n",
        "# Генерация весов\n",
        "weights = np.random.rand(X.shape[1])\n",
        "\n",
        "# Генерация смещений\n",
        "bias = np.random.rand()\n",
        "\n",
        "# Вывод\n",
        "output = neuron(X, weights, bias)\n",
        "print(output)"
      ],
      "metadata": {
        "colab": {
          "base_uri": "https://localhost:8080/"
        },
        "id": "DsuhLKZ31apE",
        "outputId": "09cd3dc9-2546-48c1-8d3b-9d22e782fd7f"
      },
      "execution_count": null,
      "outputs": [
        {
          "output_type": "stream",
          "name": "stdout",
          "text": [
            "[0.65388127 0.63563209 0.61698432 0.59798579 0.5786884 ]\n"
          ]
        }
      ]
    },
    {
      "cell_type": "markdown",
      "source": [
        "Пункт 2. Сделать класс, в котором реализована возможность задать количество нейронов в скрытом слое и провести обучение."
      ],
      "metadata": {
        "id": "A_hhYy1p12Vu"
      }
    },
    {
      "cell_type": "code",
      "source": [
        "class NeuralNetwork:\n",
        "    def __init__(self, input_size, hidden1_size, hidden2_size, output_size, learning_rate=0.01):\n",
        "        np.random.seed(42)\n",
        "        self.lr = learning_rate\n",
        "\n",
        "        # Инициализация весов и смещений\n",
        "        self.W1 = np.random.randn(input_size, hidden1_size) * 0.1\n",
        "        self.b1 = np.zeros((1, hidden1_size))\n",
        "\n",
        "        self.W2 = np.random.randn(hidden1_size, hidden2_size) * 0.1\n",
        "        self.b2 = np.zeros((1, hidden2_size))\n",
        "\n",
        "        self.W3 = np.random.randn(hidden2_size, output_size) * 0.1\n",
        "        self.b3 = np.zeros((1, output_size))\n",
        "\n",
        "    def activation_func(self, x):\n",
        "        return 1 / (1 + np.exp(-x))  # Сигмоида\n",
        "\n",
        "    def activation_func_derivative(self, x):\n",
        "        return x * (1 - x)  # Производная сигмоиды\n",
        "\n",
        "    def forward(self, X):\n",
        "        self.z1 = np.dot(X, self.W1) + self.b1\n",
        "        self.a1 = self.activation_func(self.z1)\n",
        "\n",
        "        self.z2 = np.dot(self.a1, self.W2) + self.b2\n",
        "        self.a2 = self.activation_func(self.z2)\n",
        "\n",
        "        self.z3 = np.dot(self.a2, self.W3) + self.b3\n",
        "        self.a3 = self.activation_func(self.z3)\n",
        "\n",
        "        return self.a3\n",
        "\n",
        "    def backward(self, X, y):\n",
        "        output_error = self.a3 - y  # Ошибка на выходе\n",
        "        output_delta = output_error * self.activation_func_derivative(self.a3)\n",
        "\n",
        "        hidden2_error = output_delta.dot(self.W3.T)\n",
        "        hidden2_delta = hidden2_error * self.activation_func_derivative(self.a2)\n",
        "\n",
        "        hidden1_error = hidden2_delta.dot(self.W2.T)\n",
        "        hidden1_delta = hidden1_error * self.activation_func_derivative(self.a1)\n",
        "\n",
        "        # Обновление весов и смещений\n",
        "        self.W3 -= self.a2.T.dot(output_delta) * self.lr\n",
        "        self.b3 -= np.sum(output_delta, axis=0, keepdims=True) * self.lr\n",
        "\n",
        "        self.W2 -= self.a1.T.dot(hidden2_delta) * self.lr\n",
        "        self.b2 -= np.sum(hidden2_delta, axis=0, keepdims=True) * self.lr\n",
        "\n",
        "        self.W1 -= X.T.dot(hidden1_delta) * self.lr\n",
        "        self.b1 -= np.sum(hidden1_delta, axis=0, keepdims=True) * self.lr\n",
        "\n",
        "    def train(self, X, y, epochs):\n",
        "        for epoch in range(epochs):\n",
        "            self.forward(X)\n",
        "            self.backward(X, y)\n",
        "            if epoch % 100 == 0:\n",
        "                loss = np.mean(np.square(y - self.a3))  # Среднеквадратичная ошибка\n",
        "                print(f'Epoch {epoch}, Loss: {loss}')"
      ],
      "metadata": {
        "id": "0wo8xwYR2AFk"
      },
      "execution_count": null,
      "outputs": []
    },
    {
      "cell_type": "code",
      "source": [
        "# Пример работы\n",
        "\n",
        "# Подготовка данных\n",
        "df2= pd.DataFrame(data)\n",
        "\n",
        "X = df2[['feature1', 'feature2']].values\n",
        "y = df2['label'].values.reshape(-1, 1)  # Преобразуем y в столбец\n",
        "\n",
        "# Создаем и обучаем нейронную сеть\n",
        "nn = NeuralNetwork(input_size=2, hidden1_size=3, hidden2_size=3, output_size=1, learning_rate=0.1)\n",
        "nn.train(X, y, epochs=1000)\n",
        "\n",
        "# Прогоняем данные через нейронную сеть\n",
        "output = nn.forward(X)\n",
        "print(\"Выход нейронной сети:\", output)"
      ],
      "metadata": {
        "colab": {
          "base_uri": "https://localhost:8080/"
        },
        "id": "GABHVz2I2Ow8",
        "outputId": "cde4efc4-d769-47e1-972f-f82b9612dcbd"
      },
      "execution_count": null,
      "outputs": [
        {
          "output_type": "stream",
          "name": "stdout",
          "text": [
            "Epoch 0, Loss: 0.25343579202470934\n",
            "Epoch 100, Loss: 0.2400066653815962\n",
            "Epoch 200, Loss: 0.24000605090893457\n",
            "Epoch 300, Loss: 0.24000581026249956\n",
            "Epoch 400, Loss: 0.24000557680809279\n",
            "Epoch 500, Loss: 0.240005350185569\n",
            "Epoch 600, Loss: 0.24000513006163615\n",
            "Epoch 700, Loss: 0.24000491611605518\n",
            "Epoch 800, Loss: 0.24000470804081556\n",
            "Epoch 900, Loss: 0.24000450553935856\n",
            "Выход нейронной сети: [[0.59996788]\n",
            " [0.59996429]\n",
            " [0.5999607 ]\n",
            " [0.59995711]\n",
            " [0.59995352]]\n"
          ]
        }
      ]
    },
    {
      "cell_type": "markdown",
      "source": [
        "Реализовать GPT как в пункте 2"
      ],
      "metadata": {
        "id": "Lz_J2Op8AHhx"
      }
    },
    {
      "cell_type": "code",
      "source": [
        "class Head:\n",
        "    def __init__(self, n_embd, head_size, learning_rate=0.01):\n",
        "        self.n_embd = n_embd\n",
        "        self.head_size = head_size\n",
        "        self.lr = learning_rate\n",
        "\n",
        "        # Инициализация весов для key, query, value\n",
        "        self.key_weights = np.random.randn(n_embd, head_size) * 0.01\n",
        "        self.query_weights = np.random.randn(n_embd, head_size) * 0.01\n",
        "        self.value_weights = np.random.randn(n_embd, head_size) * 0.01\n",
        "        # bias - False\n",
        "\n",
        "        #создаем маску\n",
        "    def create_mask(self, T):\n",
        "        mask = np.tril(np.ones((T, T)), k=0)  # (T, T)\n",
        "        return mask\n",
        "\n",
        "    def forward(self, x):\n",
        "        # x имеет размер (batch, time-step, channels)\n",
        "        B, T, C = x.shape\n",
        "\n",
        "        k = np.dot(x.reshape(-1, C), self.key_weights).reshape(B, T, -1)  # (B, T, head_size)\n",
        "        q = np.dot(x.reshape(-1, C), self.query_weights).reshape(B, T, -1)  # (B, T, head_size)\n",
        "        v = np.dot(x.reshape(-1, C), self.value_weights).reshape(B, T, -1)  # (B, T, head_size)\n",
        "\n",
        "        # Вычисляем оценки внимания (affinities)\n",
        "        wei = np.matmul(q, k.transpose(0, 2, 1)) * (k.shape[-1] ** -0.5  )  # (B, T, head_size) @ (B, head_size, T) -> (B, T, T)\n",
        "\n",
        "        # Применяем маску\n",
        "        mask = self.create_mask(T)  # (T, T)\n",
        "        wei = np.where(mask == 0, -np.inf, wei)\n",
        "\n",
        "        # Применяем softmax для получения весов внимания\n",
        "        wei = np.exp(wei - np.max(wei, axis=-1, keepdims=True))\n",
        "        wei /= np.sum(wei, axis=-1, keepdims=True)  # Нормализация\n",
        "\n",
        "        # Выполняем взвешенное агрегирование value\n",
        "        out = np.matmul(wei, v)  # (B, T, T) @ (B, T, head_size) -> (B, T, head_size)\n",
        "        self.cache = (x, k, q, v, wei)\n",
        "\n",
        "        return out\n",
        "\n",
        "\n",
        "    def backward(self, d_out):\n",
        "        x, k, q, v, wei = self.cache\n",
        "        B, T, C = x.shape\n",
        "\n",
        "        # Обратное распространение внимания и value\n",
        "        d_wei = np.matmul(d_out, v.transpose(0, 2, 1))\n",
        "        d_v = np.matmul(wei.transpose(0, 2, 1), d_out)\n",
        "\n",
        "        d_wei = d_wei * (wei * (1 - wei)) # производная softmax\n",
        "\n",
        "        # Обратное распространение key и query\n",
        "        d_q = np.matmul(d_wei, k)\n",
        "        d_k = np.matmul(d_wei.transpose(0, 2, 1), q)\n",
        "\n",
        "        # Обновление весов\n",
        "        self.key_weights -= np.dot(x.reshape(-1, C).T, d_k.reshape(-1, self.head_size)) * self.lr\n",
        "        self.query_weights -= np.dot(x.reshape(-1, C).T, d_q.reshape(-1, self.head_size)) * self.lr\n",
        "        self.value_weights -= np.dot(x.reshape(-1, C).T, d_v.reshape(-1, self.head_size)) * self.lr\n",
        "\n",
        "\n",
        "        # Обучение\n",
        "    def train(self, x, y, epochs):\n",
        "        for epoch in range(epochs):\n",
        "            out = self.forward(x)\n",
        "            loss = np.mean((out - y)**2)\n",
        "            d_out = 2 * (out - y) / y.size\n",
        "\n",
        "            self.backward(d_out)\n",
        "\n",
        "            if epoch % 100 == 0:\n",
        "              print(f'Epoch {epoch}, Loss: {loss}')"
      ],
      "metadata": {
        "id": "PoVGEaqIAULX"
      },
      "execution_count": 12,
      "outputs": []
    },
    {
      "cell_type": "code",
      "source": [
        "# Пример работы\n",
        "\n",
        "from sklearn.feature_extraction.text import TfidfVectorizer\n",
        "\n",
        "# Пример текстовых данных\n",
        "documents = [\n",
        "    \"Это первый документ.\",\n",
        "    \"Это второй документ.\",\n",
        "    \"И это третий документ.\",\n",
        "    \"Это четвертый документ.\",\n",
        "]\n",
        "\n",
        "# Создание TF-IDF векторов\n",
        "vectorizer = TfidfVectorizer()\n",
        "X = vectorizer.fit_transform(documents).toarray()  # Преобразуем в массив NumPy\n",
        "y = np.array([[1, 0, 0], [0, 1, 0], [0, 0, 1], [0, 0, 1]])  # Пример меток для обучения\n",
        "\n",
        "# Параметры модели\n",
        "n_embd = X.shape[1]  # Размерность векторов TF-IDF\n",
        "head_size = 3  # Размер головы внимания\n",
        "learning_rate = 0.01\n",
        "epochs = 1000\n",
        "\n",
        "# Создание экземпляра класса Head\n",
        "head = Head(n_embd=n_embd, head_size=head_size, learning_rate=learning_rate)\n",
        "\n",
        "# Изменяем форму X на (batch, time-step, channels)\n",
        "X_reshaped = X[np.newaxis, :, :]\n",
        "head.train(X_reshaped, y, epochs)\n",
        "\n",
        "# Пример предсказания\n",
        "test_document = [\"Это новый документ для предсказания.\"]\n",
        "X_test = vectorizer.transform(test_document).toarray()  # Преобразуем тестовый документ в TF-IDF вектор\n",
        "X_test_reshaped = X_test[np.newaxis, :, :]\n",
        "predicted_output = head.forward(X_test_reshaped)\n",
        "\n",
        "print(\"Предсказанный выход:\", predicted_output)"
      ],
      "metadata": {
        "id": "vkrEre7sAbCK",
        "outputId": "faab3c5d-0d77-4c3c-ecee-f12e79d86d32",
        "colab": {
          "base_uri": "https://localhost:8080/"
        }
      },
      "execution_count": 13,
      "outputs": [
        {
          "output_type": "stream",
          "name": "stdout",
          "text": [
            "Epoch 0, Loss: 0.32806548326404744\n",
            "Epoch 100, Loss: 0.2545253326662126\n",
            "Epoch 200, Loss: 0.21586233164211563\n",
            "Epoch 300, Loss: 0.19325632955216332\n",
            "Epoch 400, Loss: 0.17823203655586098\n",
            "Epoch 500, Loss: 0.1669570100546274\n",
            "Epoch 600, Loss: 0.15768388890544544\n",
            "Epoch 700, Loss: 0.14960293598452104\n",
            "Epoch 800, Loss: 0.1423271645176464\n",
            "Epoch 900, Loss: 0.13566121424875408\n",
            "Предсказанный выход: [[[0.14790951 0.22959905 0.64128078]]]\n"
          ]
        }
      ]
    }
  ]
}